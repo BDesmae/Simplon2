{
 "cells": [
  {
   "cell_type": "markdown",
   "metadata": {},
   "source": [
    "### exercice 1 : palindrome"
   ]
  },
  {
   "cell_type": "code",
   "execution_count": 3,
   "metadata": {},
   "outputs": [
    {
     "name": "stdout",
     "output_type": "stream",
     "text": [
      "Insérer un motfafa\n",
      "Ce n'est pas un palindrome\n"
     ]
    }
   ],
   "source": [
    "mot = input(\"Insérer un mot\")\n",
    "\n",
    "if mot == mot[::-1]:\n",
    "    print(\"c'est un palindrome\")\n",
    "else:\n",
    "    print(\"Ce n'est pas un palindrome\")"
   ]
  },
  {
   "cell_type": "markdown",
   "metadata": {},
   "source": [
    "### exercice 2 : lancer de dés"
   ]
  },
  {
   "cell_type": "code",
   "execution_count": null,
   "metadata": {
    "collapsed": true
   },
   "outputs": [],
   "source": [
    "from random import *\n",
    "\n",
    "total = 0\n",
    "\n",
    "for i in range(5):\n",
    "    tmp = randint(1,6)\n",
    "    print(tmp)\n",
    "    total = total + tmp\n",
    "print(total)"
   ]
  },
  {
   "cell_type": "markdown",
   "metadata": {},
   "source": [
    "### exercice 3 : calcul des moyennes"
   ]
  },
  {
   "cell_type": "code",
   "execution_count": 1,
   "metadata": {},
   "outputs": [
    {
     "name": "stdout",
     "output_type": "stream",
     "text": [
      "y a t-il encore un élève ? Tapez oui ou non : oui\n",
      "Donnez votre note: 5\n",
      "Donnez votre note: 12\n",
      "Donnez votre note: 14\n",
      "Donnez votre note: 17\n",
      "Donnez votre note: 19\n",
      "La moyenne est de :  13.4\n",
      "y a t-il encore un élève ? Tapez oui ou non : oui\n",
      "Donnez votre note: 1\n",
      "Donnez votre note: 2\n",
      "Donnez votre note: 16\n",
      "Donnez votre note: 18\n",
      "Donnez votre note: 20\n",
      "La moyenne est de :  11.4\n",
      "y a t-il encore un élève ? Tapez oui ou non : non\n"
     ]
    }
   ],
   "source": [
    "choix = input(\"y a t-il encore un élève ? Tapez oui ou non : \")\n",
    "while(choix != 'non'):\n",
    "    moy = 0\n",
    "    total = 0\n",
    "    for i in range(5):\n",
    "        note = int(input(\"Donnez votre note: \"))\n",
    "        total = total + note\n",
    "    moy = total/5\n",
    "    print(\"La moyenne est de : \", moy)\n",
    "    choix = input(\"y a t-il encore un élève ? Tapez oui ou non : \")"
   ]
  },
  {
   "cell_type": "markdown",
   "metadata": {
    "collapsed": true
   },
   "source": [
    "### exercice 4 : traitement de données contenues dans une matrice"
   ]
  },
  {
   "cell_type": "markdown",
   "metadata": {},
   "source": [
    "#### Somme des éléments impairs dans une matrice"
   ]
  },
  {
   "cell_type": "code",
   "execution_count": 14,
   "metadata": {},
   "outputs": [
    {
     "name": "stdout",
     "output_type": "stream",
     "text": [
      "(2, 3)\n",
      "9\n"
     ]
    }
   ],
   "source": [
    "import numpy as np\n",
    "\n",
    "def sommeImpair(a):\n",
    "    i = 0\n",
    "    j = 0\n",
    "    somme = 0\n",
    "    b=np.shape(a)\n",
    "    for i in range(b[0]):\n",
    "        for j in range(b[1]):\n",
    "            if(a[i][j]%2 == 1):\n",
    "                somme = somme + a[i][j]\n",
    "    return somme\n",
    "matrice = [[1,2,3],[4,5,6]]\n",
    "print(np.shape(matrice))\n",
    "print(sommeImpair(matrice))"
   ]
  },
  {
   "cell_type": "markdown",
   "metadata": {
    "collapsed": true
   },
   "source": [
    "#### Affichage des diagonales"
   ]
  },
  {
   "cell_type": "code",
   "execution_count": 2,
   "metadata": {},
   "outputs": [
    {
     "name": "stdout",
     "output_type": "stream",
     "text": [
      "[]\n"
     ]
    }
   ],
   "source": [
    "import numpy as np\n",
    "\n",
    "matriceCarree = [[1,2,3],[4,5,6],[7,8,9]]\n",
    "\n",
    "def calcul_diag(a):\n",
    "    mat = []\n",
    "    for i in a:\n",
    "        for j in i:\n",
    "            if(i == j):\n",
    "                print(a[i][j])\n",
    "                mat.append(a[i][j])\n",
    "    return mat\n",
    "\n",
    "print(calcul_diag(matriceCarree))"
   ]
  },
  {
   "cell_type": "markdown",
   "metadata": {
    "collapsed": true
   },
   "source": [
    "### Exercice 5"
   ]
  },
  {
   "cell_type": "markdown",
   "metadata": {},
   "source": [
    "#### 5.1"
   ]
  },
  {
   "cell_type": "code",
   "execution_count": 3,
   "metadata": {},
   "outputs": [
    {
     "name": "stdout",
     "output_type": "stream",
     "text": [
      "Numero : 22\n",
      "Nom : des\n",
      "Prénom : ben\n",
      "{'key': ['22', 'des', 'ben']}\n"
     ]
    }
   ],
   "source": [
    "etudiant = {}\n",
    "numero = input('Numero : ')\n",
    "nom = input('Nom : ')\n",
    "prenom = input('Prénom : ')\n",
    "\n",
    "etudiant['key'] = [numero, nom, prenom]\n",
    "\n",
    "print(etudiant)"
   ]
  },
  {
   "cell_type": "markdown",
   "metadata": {},
   "source": [
    "#### 5.2"
   ]
  },
  {
   "cell_type": "code",
   "execution_count": 6,
   "metadata": {},
   "outputs": [
    {
     "name": "stdout",
     "output_type": "stream",
     "text": [
      "1ère lettre du nom : b\n",
      "ben\n",
      "bne\n",
      "been\n"
     ]
    }
   ],
   "source": [
    "#Écrire le programme qui permet d’afficher tous les étudiants \n",
    "#dont le nom commence par une lettre saisie au clavier (en tenant compte de la casse).\n",
    "\n",
    "\n",
    "etudiant = ['ben','bne', 'ebn', 'nbe', 'enb', 'been', 'neb']\n",
    "lg_etu = len(etudiant)\n",
    "lettre = input('1ère lettre du nom : ')\n",
    "for i in range(lg_etu):\n",
    "    if (etudiant[i][0] == lettre):\n",
    "        print(etudiant[i])\n",
    "\n",
    "    "
   ]
  },
  {
   "cell_type": "markdown",
   "metadata": {},
   "source": [
    "### exercice 6 : année bisextile"
   ]
  },
  {
   "cell_type": "code",
   "execution_count": 18,
   "metadata": {},
   "outputs": [
    {
     "name": "stdout",
     "output_type": "stream",
     "text": [
      "année : 2020\n",
      "l'année  2020  est bisextile\n"
     ]
    }
   ],
   "source": [
    "annee = input(\"année : \")\n",
    "annee = int(annee)\n",
    "\n",
    "if (annee %4 == 0 and annee %100 != 0):\n",
    "    print(\"l'année \" , annee , \" est bisextile\")\n",
    "elif (annee %4 == 0 and annee %100 == 0 and annee %400 == 0):\n",
    "    print (\"l'année \" , annee , \" est bisextile\")\n",
    "else:\n",
    "    print (\"l'année \" , annee , \" n'est pas bisextile\")\n"
   ]
  },
  {
   "cell_type": "markdown",
   "metadata": {},
   "source": [
    "### exercice 7 : échange de triangle"
   ]
  },
  {
   "cell_type": "code",
   "execution_count": null,
   "metadata": {
    "collapsed": true
   },
   "outputs": [],
   "source": [
    "import numpy as np\n",
    "\n",
    "matrice = [[10,11,45,78],[23,44,12,56],[56,90,67,89],[47,78,55,34]]\n",
    "matrice_shape = np.shape(matrice)\n",
    "\n",
    "for i in range (matrice_shape[0]):\n",
    "    for j in range (matrice_shape[1]):\n",
    "        if matrice_shape[i] != matrice_shape[j]:\n",
    "            matrice[i][j]\n",
    "        "
   ]
  },
  {
   "cell_type": "code",
   "execution_count": 20,
   "metadata": {},
   "outputs": [
    {
     "name": "stdout",
     "output_type": "stream",
     "text": [
      "32\n",
      "5\n"
     ]
    }
   ],
   "source": [
    "a = 5\n",
    "b = 32\n",
    "a,b = b,a # permutation\n",
    "print(a)\n",
    "print(b)"
   ]
  },
  {
   "cell_type": "code",
   "execution_count": null,
   "metadata": {
    "collapsed": true
   },
   "outputs": [],
   "source": []
  }
 ],
 "metadata": {
  "kernelspec": {
   "display_name": "Python 3",
   "language": "python",
   "name": "python3"
  },
  "language_info": {
   "codemirror_mode": {
    "name": "ipython",
    "version": 3
   },
   "file_extension": ".py",
   "mimetype": "text/x-python",
   "name": "python",
   "nbconvert_exporter": "python",
   "pygments_lexer": "ipython3",
   "version": "3.6.7"
  }
 },
 "nbformat": 4,
 "nbformat_minor": 2
}
